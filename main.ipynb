{
 "cells": [
  {
   "cell_type": "markdown",
   "id": "7911763a-8a9b-456c-be13-0f8fd37928e8",
   "metadata": {},
   "source": [
    "# Linear Regression without using sklearn and using Sklearn"
   ]
  },
  {
   "cell_type": "code",
   "execution_count": 1,
   "id": "9ba1fd7f-6e6e-492f-85c0-3d5d75583094",
   "metadata": {},
   "outputs": [],
   "source": [
    "%matplotlib inline\n",
    "import pandas as pd\n",
    "import numpy as np\n",
    "import matplotlib.pyplot as plt\n",
    "from sklearn.linear_model import LinearRegression\n",
    "import seaborn as sns\n",
    "\n",
    "# Training Data\n",
    "train = pd.read_csv(\"train.csv\")\n",
    "\n",
    "# Testing Data\n",
    "test = pd.read_csv(\"test.csv\")\n"
   ]
  },
  {
   "cell_type": "code",
   "execution_count": 2,
   "id": "b9073209-3078-436d-b04f-40daddd24f35",
   "metadata": {},
   "outputs": [
    {
     "data": {
      "text/html": [
       "<div>\n",
       "<style scoped>\n",
       "    .dataframe tbody tr th:only-of-type {\n",
       "        vertical-align: middle;\n",
       "    }\n",
       "\n",
       "    .dataframe tbody tr th {\n",
       "        vertical-align: top;\n",
       "    }\n",
       "\n",
       "    .dataframe thead th {\n",
       "        text-align: right;\n",
       "    }\n",
       "</style>\n",
       "<table border=\"1\" class=\"dataframe\">\n",
       "  <thead>\n",
       "    <tr style=\"text-align: right;\">\n",
       "      <th></th>\n",
       "      <th>x</th>\n",
       "      <th>y</th>\n",
       "    </tr>\n",
       "  </thead>\n",
       "  <tbody>\n",
       "    <tr>\n",
       "      <th>0</th>\n",
       "      <td>24.0</td>\n",
       "      <td>21.549452</td>\n",
       "    </tr>\n",
       "    <tr>\n",
       "      <th>1</th>\n",
       "      <td>50.0</td>\n",
       "      <td>47.464463</td>\n",
       "    </tr>\n",
       "    <tr>\n",
       "      <th>2</th>\n",
       "      <td>15.0</td>\n",
       "      <td>17.218656</td>\n",
       "    </tr>\n",
       "    <tr>\n",
       "      <th>3</th>\n",
       "      <td>38.0</td>\n",
       "      <td>36.586398</td>\n",
       "    </tr>\n",
       "    <tr>\n",
       "      <th>4</th>\n",
       "      <td>87.0</td>\n",
       "      <td>87.288984</td>\n",
       "    </tr>\n",
       "  </tbody>\n",
       "</table>\n",
       "</div>"
      ],
      "text/plain": [
       "      x          y\n",
       "0  24.0  21.549452\n",
       "1  50.0  47.464463\n",
       "2  15.0  17.218656\n",
       "3  38.0  36.586398\n",
       "4  87.0  87.288984"
      ]
     },
     "execution_count": 2,
     "metadata": {},
     "output_type": "execute_result"
    }
   ],
   "source": [
    "train.head()"
   ]
  },
  {
   "cell_type": "code",
   "execution_count": 3,
   "id": "ccda890a-07ca-4867-91cb-012290633842",
   "metadata": {},
   "outputs": [
    {
     "name": "stdout",
     "output_type": "stream",
     "text": [
      "<class 'pandas.core.frame.DataFrame'>\n",
      "RangeIndex: 700 entries, 0 to 699\n",
      "Data columns (total 2 columns):\n",
      " #   Column  Non-Null Count  Dtype  \n",
      "---  ------  --------------  -----  \n",
      " 0   x       700 non-null    float64\n",
      " 1   y       699 non-null    float64\n",
      "dtypes: float64(2)\n",
      "memory usage: 11.1 KB\n"
     ]
    }
   ],
   "source": [
    "train.info()"
   ]
  },
  {
   "cell_type": "code",
   "execution_count": 4,
   "id": "3170b708-2085-4719-a32b-6f2fd1a4aa57",
   "metadata": {},
   "outputs": [
    {
     "data": {
      "text/html": [
       "<div>\n",
       "<style scoped>\n",
       "    .dataframe tbody tr th:only-of-type {\n",
       "        vertical-align: middle;\n",
       "    }\n",
       "\n",
       "    .dataframe tbody tr th {\n",
       "        vertical-align: top;\n",
       "    }\n",
       "\n",
       "    .dataframe thead th {\n",
       "        text-align: right;\n",
       "    }\n",
       "</style>\n",
       "<table border=\"1\" class=\"dataframe\">\n",
       "  <thead>\n",
       "    <tr style=\"text-align: right;\">\n",
       "      <th></th>\n",
       "      <th>x</th>\n",
       "      <th>y</th>\n",
       "    </tr>\n",
       "  </thead>\n",
       "  <tbody>\n",
       "    <tr>\n",
       "      <th>0</th>\n",
       "      <td>77</td>\n",
       "      <td>79.775152</td>\n",
       "    </tr>\n",
       "    <tr>\n",
       "      <th>1</th>\n",
       "      <td>21</td>\n",
       "      <td>23.177279</td>\n",
       "    </tr>\n",
       "    <tr>\n",
       "      <th>2</th>\n",
       "      <td>22</td>\n",
       "      <td>25.609262</td>\n",
       "    </tr>\n",
       "    <tr>\n",
       "      <th>3</th>\n",
       "      <td>20</td>\n",
       "      <td>17.857388</td>\n",
       "    </tr>\n",
       "    <tr>\n",
       "      <th>4</th>\n",
       "      <td>36</td>\n",
       "      <td>41.849864</td>\n",
       "    </tr>\n",
       "  </tbody>\n",
       "</table>\n",
       "</div>"
      ],
      "text/plain": [
       "    x          y\n",
       "0  77  79.775152\n",
       "1  21  23.177279\n",
       "2  22  25.609262\n",
       "3  20  17.857388\n",
       "4  36  41.849864"
      ]
     },
     "execution_count": 4,
     "metadata": {},
     "output_type": "execute_result"
    }
   ],
   "source": [
    "test.head()"
   ]
  },
  {
   "cell_type": "code",
   "execution_count": 5,
   "id": "381e5da1-e1c9-48cb-9144-154372a8bc47",
   "metadata": {},
   "outputs": [
    {
     "name": "stdout",
     "output_type": "stream",
     "text": [
      "<class 'pandas.core.frame.DataFrame'>\n",
      "RangeIndex: 300 entries, 0 to 299\n",
      "Data columns (total 2 columns):\n",
      " #   Column  Non-Null Count  Dtype  \n",
      "---  ------  --------------  -----  \n",
      " 0   x       300 non-null    int64  \n",
      " 1   y       300 non-null    float64\n",
      "dtypes: float64(1), int64(1)\n",
      "memory usage: 4.8 KB\n"
     ]
    }
   ],
   "source": [
    "test.info()"
   ]
  },
  {
   "cell_type": "code",
   "execution_count": 6,
   "id": "dde0d6e7-42f9-4072-a7b5-30b779999396",
   "metadata": {},
   "outputs": [
    {
     "data": {
      "text/plain": [
       "x    0\n",
       "y    1\n",
       "dtype: int64"
      ]
     },
     "execution_count": 6,
     "metadata": {},
     "output_type": "execute_result"
    }
   ],
   "source": [
    "# Checking null values \n",
    "train.isnull().sum()"
   ]
  },
  {
   "cell_type": "markdown",
   "id": "84352d02-fd64-4761-99cf-84d6379b2b5b",
   "metadata": {
    "tags": []
   },
   "source": [
    "Train data has one null value in y column"
   ]
  },
  {
   "cell_type": "code",
   "execution_count": 7,
   "id": "6841e120-0d0d-41cc-be14-0b0d414a069e",
   "metadata": {},
   "outputs": [
    {
     "data": {
      "text/plain": [
       "x    0\n",
       "y    0\n",
       "dtype: int64"
      ]
     },
     "execution_count": 7,
     "metadata": {},
     "output_type": "execute_result"
    }
   ],
   "source": [
    "test.isnull().sum()"
   ]
  },
  {
   "cell_type": "markdown",
   "id": "71b68b6d-cd55-4314-b7d8-aa6bd797e4c4",
   "metadata": {},
   "source": [
    "Test data has no null value"
   ]
  },
  {
   "cell_type": "code",
   "execution_count": 8,
   "id": "fbf20f84-7009-4164-b044-03973fd4f8f8",
   "metadata": {},
   "outputs": [],
   "source": [
    "train.replace('',float('NaN'),inplace=True)\n",
    "train.dropna(inplace=True)"
   ]
  },
  {
   "cell_type": "markdown",
   "id": "0fef73b6-7a94-4c24-ad11-99381e6c4e1f",
   "metadata": {},
   "source": [
    "Checking if any null values are left"
   ]
  },
  {
   "cell_type": "code",
   "execution_count": 9,
   "id": "535a2b18-ce99-4195-8697-301972985f9e",
   "metadata": {},
   "outputs": [
    {
     "data": {
      "text/plain": [
       "<AxesSubplot:>"
      ]
     },
     "execution_count": 9,
     "metadata": {},
     "output_type": "execute_result"
    },
    {
     "data": {
      "image/png": "[encoded data removed]",
      "text/plain": [
       "<Figure size 432x288 with 2 Axes>"
      ]
     },
     "metadata": {
      "needs_background": "light"
     },
     "output_type": "display_data"
    }
   ],
   "source": [
    "sns.heatmap(train.isnull())"
   ]
  },
  {
   "cell_type": "code",
   "execution_count": 10,
   "id": "706aafbd-b057-43b7-9c90-d9fdd9a56a36",
   "metadata": {},
   "outputs": [],
   "source": [
    "# Training Data\n",
    "x_train = train[\"x\"].values.reshape(-1,1)\n",
    "y_train = train[\"y\"].values.reshape(-1,1)"
   ]
  },
  {
   "cell_type": "code",
   "execution_count": 11,
   "id": "8c0519ba-6005-487c-b9a0-b315bb28ebdd",
   "metadata": {},
   "outputs": [],
   "source": [
    "# Testing Data\n",
    "x_test = test[\"x\"].values.reshape(-1,1)\n",
    "y_test = test[\"y\"].values.reshape(-1,1)"
   ]
  },
  {
   "cell_type": "code",
   "execution_count": 12,
   "id": "d7fadaa3-1b3c-4f96-9949-7befe625d4da",
   "metadata": {},
   "outputs": [
    {
     "data": {
      "image/png": "[encoded data removed]",
      "text/plain": [
       "<Figure size 432x288 with 2 Axes>"
      ]
     },
     "metadata": {
      "needs_background": "light"
     },
     "output_type": "display_data"
    }
   ],
   "source": [
    "# finding Outliers in training set\n",
    "plt.subplot(1,2,1)\n",
    "plt.title(\"X training Set\")\n",
    "plt.boxplot(x_train)\n",
    "\n",
    "plt.subplot(1,2,2)\n",
    "plt.title(\"Y training Set\")\n",
    "plt.boxplot(y_train)\n",
    "plt.show()"
   ]
  },
  {
   "cell_type": "markdown",
   "id": "581c0aad-e88d-4e0b-8473-e9c825b80b19",
   "metadata": {},
   "source": [
    "### No outliers found in data"
   ]
  },
  {
   "cell_type": "code",
   "execution_count": 13,
   "id": "40087a64-0fb6-4481-86e6-1976df816029",
   "metadata": {},
   "outputs": [],
   "source": [
    "# Setting learning rate and number of iteration\n",
    "# h(x) = theta_0 + theta_1 * x\n",
    "\n",
    "alpha = 0.0001\n",
    "iterations = 100\n",
    "\n",
    "#theta[0] = bias\n",
    "#theta[1] = weight\n",
    "theta = [0,0]"
   ]
  },
  {
   "cell_type": "code",
   "execution_count": 14,
   "id": "3cf9c23e-5c60-45fc-ac90-1f312be58822",
   "metadata": {},
   "outputs": [],
   "source": [
    "def h_theta(x,y,theta):\n",
    "    return (theta[0] + theta[1] * x - y)\n",
    "\n",
    "\n",
    "def cost_function(x_train,y_train,theta):\n",
    "    h = 0\n",
    "    for i in range(len(x_train)):\n",
    "        h += (h_theta(x_train[i], y_train[i],theta))**2\n",
    "    return h / (2 * len(x_train))\n",
    "\n",
    "\n",
    "def gradient_descent(x_train,y_train,theta,alpha):\n",
    "    m = len (x_train)\n",
    "    sum_i = 0\n",
    "    sum_j = 0\n",
    "    \n",
    "    for i in range(m):\n",
    "        sum_i += h_theta(x_train[i], y_train[i],theta)\n",
    "        sum_j += x_train[i]*(h_theta(x_train[i], y_train[i],theta))\n",
    "\n",
    "    theta_i = theta[0] - alpha * (sum_i) / m\n",
    "    theta_j = theta[1] - alpha * (sum_j) / m\n",
    "    updated_theta = [theta_i, theta_j]\n",
    "    return updated_theta         \n",
    "\n",
    "\n",
    "def Linear_Reg(x_train,y_train,alpha,iteration):\n",
    "    m = len (x_train)\n",
    "    theta = [0,0]\n",
    "    cost=[]\n",
    "    \n",
    "    for i in range(iteration):\n",
    "        theta = gradient_descent(x_train,y_train,theta,alpha)\n",
    "        cost.append(cost_function(x_train,y_train,theta))\n",
    "        \n",
    "    return theta"
   ]
  },
  {
   "cell_type": "code",
   "execution_count": 15,
   "id": "942ac346-5d1b-496d-8504-43dab9e2a656",
   "metadata": {},
   "outputs": [
    {
     "data": {
      "text/plain": [
       "[array([0.01465811]), array([0.99882975])]"
      ]
     },
     "execution_count": 15,
     "metadata": {},
     "output_type": "execute_result"
    }
   ],
   "source": [
    "Linear_Reg(x_train,y_train,alpha,iterations)"
   ]
  },
  {
   "cell_type": "code",
   "execution_count": 16,
   "id": "ca198061-7fea-407d-b43c-d63b074e479e",
   "metadata": {},
   "outputs": [],
   "source": [
    "# using the above value to test data\n",
    "\n",
    "\n",
    "\n"
   ]
  },
  {
   "cell_type": "code",
   "execution_count": null,
   "id": "060e9f46-b9e4-45a5-9f21-87228950b016",
   "metadata": {},
   "outputs": [],
   "source": []
  },
  {
   "cell_type": "code",
   "execution_count": 17,
   "id": "94fedda4-909c-4571-8a3c-f410ee563a83",
   "metadata": {},
   "outputs": [
    {
     "data": {
      "image/png": "[encoded data removed]",
      "text/plain": [
       "<Figure size 720x720 with 1 Axes>"
      ]
     },
     "metadata": {
      "needs_background": "light"
     },
     "output_type": "display_data"
    },
    {
     "name": "stdout",
     "output_type": "stream",
     "text": [
      "accuracy: 0.9907015319025518\n"
     ]
    }
   ],
   "source": [
    "#Linear Regression using Scikit\n",
    "\n",
    "# Select the linear model\n",
    "lin_reg = LinearRegression()\n",
    "\n",
    "# Train the model\n",
    "lin_reg.fit(x_train, y_train)\n",
    "\n",
    "# Make prediction\n",
    "prediction = lin_reg.predict(x_test)\n",
    "\n",
    "# Visualize the data\n",
    "plt.figure(figsize=(10, 10))\n",
    "plt.title(\"Train Data\", fontsize=20)\n",
    "plt.xlabel(\"x\", fontsize=20)\n",
    "plt.ylabel(\"y\", fontsize=20)\n",
    "\n",
    "plt.scatter(x_train, y_train, s=12, alpha = 0.3)\n",
    "plt.plot(x_test, prediction, color=\"orange\")\n",
    "plt.show()\n",
    "\n",
    "accuracy = lin_reg.score(x_train, y_train)\n",
    "print('accuracy:',accuracy)"
   ]
  },
  {
   "cell_type": "code",
   "execution_count": null,
   "id": "bfc83d2e-4aac-4627-883a-3d427e2c43c8",
   "metadata": {},
   "outputs": [],
   "source": []
  },
  {
   "cell_type": "code",
   "execution_count": null,
   "id": "4c34c4cc-934c-4fc6-a02a-fcbd341e30bd",
   "metadata": {},
   "outputs": [],
   "source": []
  },
  {
   "cell_type": "code",
   "execution_count": null,
   "id": "4a936410-099d-4ae5-ac73-9e2b297d7411",
   "metadata": {},
   "outputs": [],
   "source": []
  },
  {
   "cell_type": "code",
   "execution_count": null,
   "id": "b3037380-af10-47f9-ad3b-1720520371e0",
   "metadata": {},
   "outputs": [],
   "source": []
  },
  {
   "cell_type": "code",
   "execution_count": null,
   "id": "806ef1e8-553f-4025-819c-be7b1b535a40",
   "metadata": {},
   "outputs": [],
   "source": []
  }
 ],
 "metadata": {
  "kernelspec": {
   "display_name": "Python 3 (ipykernel)",
   "language": "python",
   "name": "python3"
  },
  "language_info": {
   "codemirror_mode": {
    "name": "ipython",
    "version": 3
   },
   "file_extension": ".py",
   "mimetype": "text/x-python",
   "name": "python",
   "nbconvert_exporter": "python",
   "pygments_lexer": "ipython3",
   "version": "3.8.13"
  }
 },
 "nbformat": 4,
 "nbformat_minor": 5
}
